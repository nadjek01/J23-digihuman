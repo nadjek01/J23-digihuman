{
 "cells": [
  {
   "cell_type": "code",
   "execution_count": 6,
   "id": "370fe75c",
   "metadata": {},
   "outputs": [
    {
     "name": "stdout",
     "output_type": "stream",
     "text": [
      "So far in this chapter I have learned how to define a function in python!\n"
     ]
    }
   ],
   "source": [
    "#8-1 Message\n",
    "\n",
    "def displayMessage():\n",
    "    print(\"So far in this chapter I have learned how to define a function in python!\")\n",
    "    \n",
    "displayMessage()"
   ]
  },
  {
   "cell_type": "code",
   "execution_count": 7,
   "id": "2ee12611",
   "metadata": {},
   "outputs": [
    {
     "name": "stdout",
     "output_type": "stream",
     "text": [
      "My favourite book is Three Blind Mice.\n"
     ]
    }
   ],
   "source": [
    "#8-2 Favorite Book\n",
    "def faveBook(title):\n",
    "    print(\"My favourite book is \" + title.title() + \".\")\n",
    "faveBook('The Three Blind Mice')"
   ]
  },
  {
   "cell_type": "code",
   "execution_count": 10,
   "id": "0c1cbf1a",
   "metadata": {},
   "outputs": [
    {
     "name": "stdout",
     "output_type": "stream",
     "text": [
      "\n",
      "I'm going to make a large t-shirt.\n",
      "I want it to say, \"I love NYC!\"\n",
      "\n",
      "I'm going to make a medium t-shirt.\n",
      "I want it to say, \"I love Milan!\"\n"
     ]
    }
   ],
   "source": [
    "#8-3 T-Shirt\n",
    "def makeShirt(size, message):\n",
    "    print(\"\\nI'm going to make a \" + size + \" t-shirt.\")\n",
    "    print('I want it to say, \"' + message + '\"')\n",
    "\n",
    "makeShirt('large', 'I love NYC!')\n",
    "makeShirt(message=\"I love Milan!\", size='medium')"
   ]
  },
  {
   "cell_type": "code",
   "execution_count": 13,
   "id": "6cebf227",
   "metadata": {},
   "outputs": [
    {
     "name": "stdout",
     "output_type": "stream",
     "text": [
      "Los Angeles is in America.\n",
      "Toronto is in Canada.\n",
      "Chicago is in America.\n"
     ]
    }
   ],
   "source": [
    "#8-5 Cities\n",
    "def describeCity(city, country='America'):\n",
    "    \"\"\"Describe a city.\"\"\"\n",
    "    msg = city.title() + \" is in \" + country.title() + \".\"\n",
    "    print(msg)\n",
    "\n",
    "describeCity('Los Angeles')\n",
    "describeCity('Toronto', 'canada')\n",
    "describeCity('Chicago')"
   ]
  },
  {
   "cell_type": "code",
   "execution_count": 14,
   "id": "01a240c1",
   "metadata": {},
   "outputs": [
    {
     "name": "stdout",
     "output_type": "stream",
     "text": [
      "Santiago, Chile\n",
      "Los Angeles, Usa\n",
      "Toronta, Canada\n"
     ]
    }
   ],
   "source": [
    "#8-6 City-Names\n",
    "def cityCountry(city, country):\n",
    "    \"\"\"Return a string like 'Santiago, Chile'.\"\"\"\n",
    "    return(city.title() + \", \" + country.title())\n",
    "\n",
    "city = cityCountry('santiago', 'chile')\n",
    "print(city)\n",
    "\n",
    "city = cityCountry('los angeles', 'usa')\n",
    "print(city)\n",
    "\n",
    "city = cityCountry('toronta', 'canada')\n",
    "print(city)"
   ]
  },
  {
   "cell_type": "code",
   "execution_count": 16,
   "id": "037ca6fb",
   "metadata": {},
   "outputs": [
    {
     "name": "stdout",
     "output_type": "stream",
     "text": [
      "{'artist': 'Frank Ocean', 'title': 'Chanel'}\n",
      "{'artist': 'Steve Lacy', 'title': 'Mercury'}\n",
      "{'artist': 'Dean Blunt', 'title': 'Rinsed'}\n"
     ]
    }
   ],
   "source": [
    "#8-7 Album\n",
    "def makeAlbum(artist, title):\n",
    "    \"\"\"Build a dictionary containing information about an album.\"\"\"\n",
    "    album_dict = {\n",
    "        'artist': artist.title(),\n",
    "        'title': title.title(),\n",
    "        }\n",
    "    return album_dict\n",
    "\n",
    "album = makeAlbum('frank ocean', 'chanel')\n",
    "print(album)\n",
    "\n",
    "album = makeAlbum('steve lacy', 'mercury')\n",
    "print(album)\n",
    "\n",
    "album = makeAlbum('dean blunt', 'rinsed')\n",
    "print(album)"
   ]
  },
  {
   "cell_type": "code",
   "execution_count": null,
   "id": "6a0724a5",
   "metadata": {},
   "outputs": [],
   "source": []
  }
 ],
 "metadata": {
  "kernelspec": {
   "display_name": "Python 3 (ipykernel)",
   "language": "python",
   "name": "python3"
  },
  "language_info": {
   "codemirror_mode": {
    "name": "ipython",
    "version": 3
   },
   "file_extension": ".py",
   "mimetype": "text/x-python",
   "name": "python",
   "nbconvert_exporter": "python",
   "pygments_lexer": "ipython3",
   "version": "3.11.4"
  }
 },
 "nbformat": 4,
 "nbformat_minor": 5
}
