{
 "cells": [
  {
   "cell_type": "markdown",
   "metadata": {},
   "source": [
    "# Functions Challenge\n",
    "## Directions\n",
    "\n",
    "Building off of the dictionaries challenge, create a function that takes a Pleiades url as input and returns a dictionary with two pieces of information: \"location_id\" and \"coordinates.\" For example, given the url `https://pleiades.stoa.org/places/423025/json` return the dictionary:\n",
    "`{'location_id': '423025', 'coordinates': [12.486137, 41.891775]}`\n",
    "\n",
    "Then, use a for loop to apply your function to the list of urls below building a new list of the returned dictionaries called `coordinates_list`. Your final result should look like this:\n",
    "\n",
    "`[{'location_id': '423025', 'coordinates': [12.486137, 41.891775]}, {'location_id': '550595', 'coordinates': [26.238889, 39.9575]}, {'location_id': '314921', 'coordinates': [10.312944, 36.847009]}, {'location_id': '60406/', 'coordinates': [71.06148, 29.2389543]}, {'location_id': '79574/', 'coordinates': [-0.088949, 51.513335]}]`\n",
    "\n",
    "Hint: The location id can be found in the url, you will need to isolate it somehow.\n",
    "\n",
    "Bonus task: Find the location name and include it in your dictionary.\n",
    "\n"
   ]
  },
  {
   "cell_type": "markdown",
   "metadata": {},
   "source": [
    "## Solution"
   ]
  },
  {
   "cell_type": "code",
   "execution_count": 8,
   "metadata": {},
   "outputs": [],
   "source": [
    "import requests\n",
    "import json"
   ]
  },
  {
   "cell_type": "code",
   "execution_count": 9,
   "metadata": {},
   "outputs": [],
   "source": [
    "# How to use requests\n",
    "url = \"https://pleiades.stoa.org/places/423025/json\"  # set your url\n",
    "response = requests.get(url)  # use requests.get() to get a response object\n",
    "text = response.text  # extract the text from the response object using the text attributeb"
   ]
  },
  {
   "cell_type": "code",
   "execution_count": 10,
   "metadata": {},
   "outputs": [],
   "source": [
    "# The data you get from the pleiades url will techincally be a string even though it looks like a dictionary.\n",
    "# You can use the json library to convert the string to a dictionary\n",
    "data = json.loads(text)  # json.loads will convert the string to a dictionary. The \"s\" on the end of \"loads\" indicates a string"
   ]
  },
  {
   "cell_type": "code",
   "execution_count": 37,
   "metadata": {},
   "outputs": [
    {
     "name": "stdout",
     "output_type": "stream",
     "text": [
      "{'location_id': '423025', 'title': 'DARMC location 30635', 'coordinates': [12.486137, 41.891775]}\n",
      "{'location_id': '550595', 'title': 'DARE Location', 'coordinates': [26.238889, 39.9575]}\n",
      "{'location_id': '314921', 'title': 'DARE Location', 'coordinates': [10.323056, 36.853056]}\n",
      "{'location_id': '60406', 'title': 'OSM location of modern Uch Sharif', 'coordinates': [71.06148, 29.2389543]}\n",
      "{'location_id': '79574', 'title': 'DARMC location 20441', 'coordinates': [-0.088949, 51.513335]}\n"
     ]
    }
   ],
   "source": [
    "import requests\n",
    "\n",
    "def get_location_and_coordinates(url):\n",
    "    # Extract location_id from the URL\n",
    "    location_id = url.split('/')[-2]\n",
    "\n",
    "    # Make a request to the Pleiades URL\n",
    "    response = requests.get(url)\n",
    "    data = response.json()\n",
    "\n",
    "    # Check if 'features' key is present in the response\n",
    "    if 'features' in data:\n",
    "        # Get the first feature in the 'features' list\n",
    "        feature = data['features'][0]\n",
    "\n",
    "        # Extract location information and coordinates\n",
    "        location_info = {\n",
    "            'location_id': location_id,\n",
    "            'title': feature['properties']['title'],\n",
    "            'coordinates': feature['geometry']['coordinates']\n",
    "        }\n",
    "\n",
    "        return location_info\n",
    "\n",
    "    # Return None if 'features' key is not present\n",
    "    return None\n",
    "\n",
    "# List of Pleiades URLs\n",
    "urls = [\n",
    "    'https://pleiades.stoa.org/places/423025/json',\n",
    "    'https://pleiades.stoa.org/places/550595/json',\n",
    "    'https://pleiades.stoa.org/places/314921/json',\n",
    "    'https://pleiades.stoa.org/places/60406/json',\n",
    "    'https://pleiades.stoa.org/places/79574/json',\n",
    "]\n",
    "\n",
    "# Iterate over each URL and get location information and coordinates\n",
    "for url in urls:\n",
    "    location_data = get_location_and_coordinates(url)\n",
    "\n",
    "    # Print the result for each URL\n",
    "    if location_data:\n",
    "        print(location_data)\n",
    "    else:\n",
    "        print(f\"Error: Unable to retrieve location information for {url}\")\n"
   ]
  },
  {
   "cell_type": "code",
   "execution_count": null,
   "metadata": {},
   "outputs": [],
   "source": []
  },
  {
   "cell_type": "code",
   "execution_count": null,
   "metadata": {},
   "outputs": [],
   "source": []
  }
 ],
 "metadata": {
  "kernelspec": {
   "display_name": "Python 3 (ipykernel)",
   "language": "python",
   "name": "python3"
  },
  "language_info": {
   "codemirror_mode": {
    "name": "ipython",
    "version": 3
   },
   "file_extension": ".py",
   "mimetype": "text/x-python",
   "name": "python",
   "nbconvert_exporter": "python",
   "pygments_lexer": "ipython3",
   "version": "3.11.4"
  }
 },
 "nbformat": 4,
 "nbformat_minor": 4
}
