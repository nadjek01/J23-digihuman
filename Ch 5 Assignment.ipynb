{
 "cells": [
  {
   "cell_type": "code",
   "execution_count": 4,
   "id": "744d23d2",
   "metadata": {},
   "outputs": [
    {
     "name": "stdout",
     "output_type": "stream",
     "text": [
      "Is coffee == 'black'? I predict True.\n",
      "True\n",
      "\n",
      "Is coffee == 'latte'? I predict False.\n",
      "False\n",
      "\n",
      "Is coffee == 'americano'? I predict False.\n",
      "False\n",
      "\n",
      "Is coffee == 'cappuccino'? I predict False.\n",
      "False\n",
      "\n",
      "Is coffee == 'affrogato'? I predict False.\n",
      "False\n",
      "\n",
      "Is coffee == 'decaf'? I predict False.\n",
      "False\n",
      "Is coffee == 'black'? I predict True.\n",
      "True\n",
      "Is coffee == 'green'? I predict True.\n",
      "False\n",
      "Is coffee == 'mint'? I predict True.\n",
      "False\n",
      "Is coffee == 'iced'? I predict True.\n",
      "False\n"
     ]
    }
   ],
   "source": [
    "#5-1 Conditional Tests\n",
    "coffee = 'black'\n",
    "print(\"Is coffee == 'black'? I predict True.\")\n",
    "print(coffee == 'black')\n",
    "\n",
    "print(\"\\nIs coffee == 'latte'? I predict False.\")\n",
    "print(coffee == \"latte\")\n",
    "\n",
    "print(\"\\nIs coffee == 'americano'? I predict False.\")\n",
    "print(coffee == \"americano\")\n",
    "\n",
    "print(\"\\nIs coffee == 'cappuccino'? I predict False.\")\n",
    "print(coffee == \"cappuccino\")\n",
    "\n",
    "print(\"\\nIs coffee == 'affrogato'? I predict False.\")\n",
    "print(coffee == \"affrogato\")\n",
    "\n",
    "print(\"\\nIs coffee == 'decaf'? I predict False.\")\n",
    "print(coffee == \"decaf\")\n",
    "\n",
    "tea = 'black'\n",
    "print(\"Is coffee == 'black'? I predict True.\")\n",
    "print(coffee == 'black')\n",
    "\n",
    "tea = 'green'\n",
    "print(\"Is coffee == 'green'? I predict True.\")\n",
    "print(coffee == 'green')\n",
    "\n",
    "tea = 'mint'\n",
    "print(\"Is coffee == 'mint'? I predict True.\")\n",
    "print(coffee == 'mint')\n",
    "\n",
    "tea = 'iced'\n",
    "print(\"Is coffee == 'iced'? I predict True.\")\n",
    "print(coffee == 'iced')"
   ]
  },
  {
   "cell_type": "code",
   "execution_count": 20,
   "id": "3a9c6215",
   "metadata": {},
   "outputs": [
    {
     "name": "stdout",
     "output_type": "stream",
     "text": [
      "Is the word glass equal to the word wood? I predict False\n",
      "False\n",
      "Is the word win equal to the word win? I predict True\n",
      "True\n",
      "False\n",
      "True\n",
      "True\n",
      "False\n",
      "True\n",
      "False\n",
      "False\n",
      "True\n",
      "True\n",
      "False\n",
      "False\n",
      "True\n",
      "True\n",
      "False\n",
      "True\n",
      "True\n",
      "True\n",
      "False\n"
     ]
    }
   ],
   "source": [
    "#5-2 More Conditional Tests\n",
    "print(\"Is the word glass equal to the word wood? I predict False\")\n",
    "print('glass' == 'wood')\n",
    "\n",
    "print(\"Is the word win equal to the word win? I predict True\")\n",
    "print('win' == 'win')\n",
    "\n",
    "phr1 = \"Pop\"\n",
    "print(phr1 == phr1.lower())\n",
    "print(\"pop\" == phr1.lower())\n",
    "\n",
    "print(1 != 2)\n",
    "print(1 != 1)\n",
    "print(1 == 1)\n",
    "print(1 == 2)\n",
    "print(1 > 2)\n",
    "print(2 > 1)\n",
    "print(1 < 2)\n",
    "print(2 < 1)\n",
    "print(1 >= 2)\n",
    "print(2 >= 1)\n",
    "print(1 <= 2)\n",
    "print(2 <= 1)\n",
    "\n",
    "if (\"wood\" == \"wood\" and 1 == 1):\n",
    "    print(\"wood\" == \"wood\" and 1 == 1)\n",
    "    \n",
    "if (\"wood\" == \"wood\" and 2 == 1):\n",
    "    print(\"wood\" == \"wood\" and 2 == 1)\n",
    "    \n",
    "if (\"wood\" == \"wood\" or 2 == 1):\n",
    "    print(\"wood\" == \"wood\" or 1 == 1)\n",
    "\n",
    "if (\"wood\" == \"glass\" or 2 == 1):\n",
    "    print(\"wood\" == \"glass\" or 2 == 1)\n",
    "\n",
    "sumlist = ['a', 'b', 'c', 1, 2, 3]\n",
    "print('a' in sumlist)\n",
    "print(4 in sumlist)\n"
   ]
  },
  {
   "cell_type": "code",
   "execution_count": 22,
   "id": "11d634ca",
   "metadata": {},
   "outputs": [],
   "source": [
    "#5-3 Alien Colours 1a\n",
    "alienColour = 'red'\n",
    "if (alienColour == 'green'):\n",
    "    print(\"Player earns 5 points\")"
   ]
  },
  {
   "cell_type": "code",
   "execution_count": 23,
   "id": "064de859",
   "metadata": {},
   "outputs": [
    {
     "name": "stdout",
     "output_type": "stream",
     "text": [
      "Player earned 5 points\n"
     ]
    }
   ],
   "source": [
    "#5-3 Alien Colours 1b\n",
    "alienColour = 'green'\n",
    "if (alienColour == 'green'):\n",
    "    print(\"Player earns 5 points\")"
   ]
  },
  {
   "cell_type": "code",
   "execution_count": 24,
   "id": "5543d779",
   "metadata": {},
   "outputs": [
    {
     "name": "stdout",
     "output_type": "stream",
     "text": [
      "Player earns 10 points\n"
     ]
    }
   ],
   "source": [
    "#5-4 Alien Colours 2a\n",
    "alienColour = 'red'\n",
    "if (alienColour == 'green'):\n",
    "    print(\"Player earns 5 points for shooting alien\")\n",
    "else:\n",
    "    print(\"Player earns 10 points\")"
   ]
  },
  {
   "cell_type": "code",
   "execution_count": 25,
   "id": "5e592b0d",
   "metadata": {},
   "outputs": [
    {
     "name": "stdout",
     "output_type": "stream",
     "text": [
      "Player earns 5 points for shooting alien\n"
     ]
    }
   ],
   "source": [
    "#5-4 Alien Colours 2b\n",
    "alienColour = 'green'\n",
    "if (alienColour == 'green'):\n",
    "    print(\"Player earns 5 points for shooting alien\")\n",
    "else:\n",
    "    print(\"Player earns 10 points\")"
   ]
  },
  {
   "cell_type": "code",
   "execution_count": 26,
   "id": "d88902a6",
   "metadata": {},
   "outputs": [
    {
     "name": "stdout",
     "output_type": "stream",
     "text": [
      "Player earns 15 points\n"
     ]
    }
   ],
   "source": [
    "#5-4 Alien Colours 3a\n",
    "alienColour = 'red'\n",
    "if (alienColour == 'green'):\n",
    "    print(\"Player earns 5 points for shooting alien\")\n",
    "elif(alienColour == 'yellow'):\n",
    "    print(\"Player earns 10 points\")\n",
    "elif(alienColour == 'red'):\n",
    "    print(\"Player earns 15 points\")"
   ]
  },
  {
   "cell_type": "code",
   "execution_count": 27,
   "id": "56d8db0b",
   "metadata": {},
   "outputs": [
    {
     "name": "stdout",
     "output_type": "stream",
     "text": [
      "Player earns 5 points for shooting alien\n"
     ]
    }
   ],
   "source": [
    " #5-4 Alien Colours 3b\n",
    "alienColour = 'green'\n",
    "if (alienColour == 'green'):\n",
    "    print(\"Player earns 5 points for shooting alien\")\n",
    "elif(alienColour == 'yellow'):\n",
    "    print(\"Player earns 10 points\")\n",
    "elif(alienColour == 'red'):\n",
    "    print(\"Player earns 15 points\")"
   ]
  },
  {
   "cell_type": "code",
   "execution_count": 28,
   "id": "d3e32162",
   "metadata": {},
   "outputs": [
    {
     "name": "stdout",
     "output_type": "stream",
     "text": [
      "Player earns 10 points\n"
     ]
    }
   ],
   "source": [
    "#5-4 Alien Colours 3c\n",
    "alienColour = 'yellow'\n",
    "if (alienColour == 'green'):\n",
    "    print(\"Player earns 5 points for shooting alien\")\n",
    "elif(alienColour == 'yellow'):\n",
    "    print(\"Player earns 10 points\")\n",
    "elif(alienColour == 'red'):\n",
    "    print(\"Player earns 15 points\")"
   ]
  },
  {
   "cell_type": "code",
   "execution_count": 30,
   "id": "1001a5b4",
   "metadata": {},
   "outputs": [
    {
     "name": "stdout",
     "output_type": "stream",
     "text": [
      "Person is an adult\n"
     ]
    }
   ],
   "source": [
    "#5-6 Stages of Life\n",
    "age = 20\n",
    "if (age < 2):\n",
    "    print(\"Person is baby\")\n",
    "elif(age >= 2 and age < 4):\n",
    "    print(\"Person is a toddler\")\n",
    "elif(age >= 4 and age < 13):\n",
    "    print(\"Person is a kid\")\n",
    "elif(age >= 13 and age < 20):\n",
    "    print(\"Person is a teen\")\n",
    "elif(age >= 20 and age < 65):\n",
    "    print(\"Person is an adult\")\n",
    "elif(age >= 65):\n",
    "    print(\"Person is an elder\")"
   ]
  },
  {
   "cell_type": "code",
   "execution_count": 36,
   "id": "b9448a2b",
   "metadata": {},
   "outputs": [
    {
     "name": "stdout",
     "output_type": "stream",
     "text": [
      "I really like strawberries\n",
      "I really like blackberries\n",
      "I really like peaches\n"
     ]
    }
   ],
   "source": [
    "#5-7 Favourite Fruit\n",
    "faveFruit = [\"strawberry\", \"peach\", \"blackberries\"]\n",
    "if \"bananas\" in faveFruit:\n",
    "    print(\"I don't like bananas\")\n",
    "if \"strawberry\" in faveFruit:\n",
    "    print(\"I really like strawberries\")\n",
    "if \"blackberries\" in faveFruit:\n",
    "    print(\"I really like blackberries\")\n",
    "if \"peach\" in faveFruit:\n",
    "    print(\"I really like peaches\")\n",
    "if \"tomato\" in faveFruit:\n",
    "    print(\"I think that tomatoes are okay\")"
   ]
  },
  {
   "cell_type": "code",
   "execution_count": 38,
   "id": "542ba607",
   "metadata": {},
   "outputs": [
    {
     "name": "stdout",
     "output_type": "stream",
     "text": [
      "Hello admin would you like to see a status report\n",
      "Hello Erik, thank you for logging in again\n",
      "Hello Bob, thank you for logging in again\n",
      "Hello Emily, thank you for logging in again\n",
      "Hello Jon, thank you for logging in again\n"
     ]
    }
   ],
   "source": [
    "#5-8 Hello Admin\n",
    "userNames = ['admin', 'Erik', 'Bob', 'Emily', 'Jon']\n",
    "for x in userNames:\n",
    "    if (x == 'admin'):\n",
    "        print(\"Hello \" + x + \" would you like to see a status report\")\n",
    "    else:\n",
    "        print(\"Hello \" + x + \", thank you for logging in again\")"
   ]
  },
  {
   "cell_type": "code",
   "execution_count": 39,
   "id": "4f0bc839",
   "metadata": {},
   "outputs": [
    {
     "name": "stdout",
     "output_type": "stream",
     "text": [
      "We need to find some users!\n"
     ]
    }
   ],
   "source": [
    "#5-9 No Users\n",
    "userNames = []\n",
    "if (userNames):\n",
    "    for x in userNames:\n",
    "        if (x == 'admin'):\n",
    "            print(\"Hello \" + x + \" would you like to see a status report\")\n",
    "        else:\n",
    "            print(\"Hello \" + x + \", thank you for logging in again\")\n",
    "else:\n",
    "    print(\"We need to find some users!\")"
   ]
  },
  {
   "cell_type": "code",
   "execution_count": 47,
   "id": "a563f414",
   "metadata": {},
   "outputs": [
    {
     "name": "stdout",
     "output_type": "stream",
     "text": [
      "Great, sarah is still available.\n",
      "Sorry Willie, that name is taken.\n",
      "Great, PHIL is still available.\n",
      "Sorry ever, that name is taken.\n",
      "Great, Iona is still available.\n"
     ]
    }
   ],
   "source": [
    "#5-10 Checking Usernames\n",
    "currentUsers = ['eric', 'willie', 'admin', 'erin', 'Ever']\n",
    "newUsers = ['sarah', 'Willie', 'PHIL', 'ever', 'Iona']\n",
    "\n",
    "current_users_lower = [user.lower() for user in currentUsers]\n",
    "\n",
    "for new_user in new_users:\n",
    "    if new_user.lower() in current_users_lower:\n",
    "        print(\"Sorry \" + new_user + \", that name is taken.\")\n",
    "    else:\n",
    "        print(\"Great, \" + new_user + \" is still available.\")"
   ]
  },
  {
   "cell_type": "code",
   "execution_count": null,
   "id": "95351185",
   "metadata": {},
   "outputs": [],
   "source": []
  }
 ],
 "metadata": {
  "kernelspec": {
   "display_name": "Python 3 (ipykernel)",
   "language": "python",
   "name": "python3"
  },
  "language_info": {
   "codemirror_mode": {
    "name": "ipython",
    "version": 3
   },
   "file_extension": ".py",
   "mimetype": "text/x-python",
   "name": "python",
   "nbconvert_exporter": "python",
   "pygments_lexer": "ipython3",
   "version": "3.11.4"
  }
 },
 "nbformat": 4,
 "nbformat_minor": 5
}
