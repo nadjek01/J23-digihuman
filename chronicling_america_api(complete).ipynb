{
 "cells": [
  {
   "cell_type": "markdown",
   "metadata": {
    "id": "lg1_EIHEETuB"
   },
   "source": [
    "# Chronicling America API\n",
    "\n",
    "[Chronicling America](https://chroniclingamerica.loc.gov/) is a collection of digitized American newspapers dating from 1777 to 1963 provided by the Library of Congress. The collection offers an application programming interface (API) which allows users to easily harvest large amounts of data.\n",
    "\n",
    "In this notebook we will search Chronicling America's API, gather the search results into a Pandas dataframe, clean the data, and save it as a csv file."
   ]
  },
  {
   "cell_type": "code",
   "execution_count": 1,
   "metadata": {
    "id": "q0-jsD68ELup"
   },
   "outputs": [],
   "source": [
    "# imports\n",
    "import requests\n",
    "import json\n",
    "import math\n",
    "import pandas as pd\n",
    "import spacy"
   ]
  },
  {
   "cell_type": "markdown",
   "metadata": {
    "id": "XQFGCgdRHpCb"
   },
   "source": [
    "##Chronicling America URLs\n",
    "\n",
    "If I search for a term, \"abolition\" for example, on https://chroniclingamerica.loc.gov/ I will get a results url that looks like this:\n",
    "\n",
    "https://chroniclingamerica.loc.gov/search/pages/results/?state=&date1=1770&date2=1963&proxtext=abolition&x=12&y=18&dateFilterType=yearRange&rows=20&searchType=basic\n",
    "\n",
    "These search results are human actionable, but not machine actionable. Chronicling America as an API that allows me to get machine actionable results if I add `&format=json`:\n",
    "\n",
    "https://chroniclingamerica.loc.gov/search/pages/results/?state=&date1=1770&date2=1963&proxtext=abolition&x=12&y=18&dateFilterType=yearRange&rows=20&searchType=basic&format=json\n",
    "\n",
    "If we examine the url we see that there are a number of search parameters:\n",
    "- `state=`\n",
    "- `date1=1770`\n",
    "- `date2=1963`\n",
    "- `proxtext=abolition`\n",
    "\n",
    "We can edit these values to modify our search. I change the parameters to limit our search:\n",
    "\n",
    "https://chroniclingamerica.loc.gov/search/pages/results/?state=Massachusetts&date1=1770&date2=1865&proxtext=prohibition&x=20&y=8&dateFilterType=yearRange&rows=20&searchType=basic&format=json"
   ]
  },
  {
   "cell_type": "markdown",
   "metadata": {
    "id": "8x69VEy1KCpP"
   },
   "source": [
    "Now I can use the `requests` library to retrieve data from the url."
   ]
  },
  {
   "cell_type": "code",
   "execution_count": 2,
   "metadata": {
    "id": "uoseSCpoEghd"
   },
   "outputs": [],
   "source": [
    "# initial search\n",
    "url = 'https://chroniclingamerica.loc.gov/search/pages/results/?state=California&date1=1870&date2=1945&proxtext=gold_rush&x=20&y=8&dateFilterType=yearRange&rows=20&searchType=basic&format=json'\n",
    "response = requests.get(url)\n",
    "raw = response.text\n",
    "results = json.loads(raw)"
   ]
  },
  {
   "cell_type": "markdown",
   "metadata": {
    "id": "g-IV4qxIKlXW"
   },
   "source": [
    "## Explore search results"
   ]
  },
  {
   "cell_type": "code",
   "execution_count": 3,
   "metadata": {
    "id": "Pg-9a2pIKTnO"
   },
   "outputs": [
    {
     "data": {
      "text/plain": [
       "dict_keys(['totalItems', 'endIndex', 'startIndex', 'itemsPerPage', 'items'])"
      ]
     },
     "execution_count": 3,
     "metadata": {},
     "output_type": "execute_result"
    }
   ],
   "source": [
    "results.keys()"
   ]
  },
  {
   "cell_type": "code",
   "execution_count": 4,
   "metadata": {
    "id": "jB1fHVUTEcLl"
   },
   "outputs": [
    {
     "name": "stdout",
     "output_type": "stream",
     "text": [
      "<class 'list'>\n"
     ]
    }
   ],
   "source": [
    "# explore items\n",
    "print(type(results['items']))"
   ]
  },
  {
   "cell_type": "code",
   "execution_count": 5,
   "metadata": {
    "id": "LduCA0d1Etzn"
   },
   "outputs": [
    {
     "name": "stdout",
     "output_type": "stream",
     "text": [
      "{'sequence': 8, 'county': ['Imperial'], 'edition': None, 'frequency': 'Daily', 'id': '/lccn/sn92070146/1926-03-16/ed-1/seq-8/', 'subject': ['California--Imperial County.--fast--(OCoLC)fst01206056', 'California--San Diego County.--fast--(OCoLC)fst01204290', 'Imperial County (Calif.)--Newspapers.', 'San Diego County (Calif.)--Newspapers.'], 'city': ['El Centro'], 'date': '19260316', 'title': 'Imperial Valley press.', 'end_year': 9999, 'note': ['Archived issues are available in digital format as part of the Library of Congress Chronicling America online collection.', 'Latest issue consulted: Oct. 7, 1993.', 'Master negatives are available for duplication from:', 'Published as: Imperial Valley press and El Centro progress, Jan. 16-Oct. 25, 1922.', 'Published combined issues on holidays: The morning post-Imperial Valley press, Nov. 28, 1935 and Dec. 25, 1935. On Sundays published as: The Post-press, Jan. 12, 1936-Oct. 30, 1960; Imperial Valley news-press, Nov. 6, 1960-Feb. 26/27, 1967; Imperial Valley press/The Brawley news, Oct. 2, 1988-June 7, 1992; published as combined Sat./Sun. ed., Apr. 29/30, 1961-<Jan 13/14, 1968>', 'Sunday issues have their own numbering.'], 'state': ['California'], 'section_label': '', 'type': 'page', 'place_of_publication': 'El Centro, Calif.', 'start_year': 1907, 'edition_label': '', 'publisher': 'D.D. Pellet', 'language': ['English'], 'alt_title': ['Imperial Valley news-press', 'Imperial Valley press and El Centro progress', 'Imperial Valley press/Brawley news', 'Morning post-Imperial Valley press', 'Post-press'], 'lccn': 'sn92070146', 'country': 'California', 'ocr_eng': '8\\nC. C. LADIES DAY\\nCOMES TOMORROW\\nTomorrow will 1 »c* observed ns\\n“Indies day\\'* at Ilie El Centro\\nChamber of Commerce, and women\\nresidents of the city are cordially\\ninvited to attend tiie noon lunch\\neon at the Barbara Worth hotel.\\nMrs. Maynard Forca Thr.ycr *fi\\nPasadena, well known elnb woman,\\nwill give an address following the\\nluncheon. Mrs. Thayer tvai Jora*\\nerlv chairman of the department of\\norganization of the State of Cali\\nfornia Federated Women\\'s Clubs.\\nSbc is an ardent worker for Ameri\\ncanization and her talk will fol\\nlow along this line.\\nSecretary Carmichael requests\\nthat women planning to attend the\\nluncheon notify him of their in\\ntention so that sufficient reserva\\ntions can be made.\\nH. J. Baade, farm advisor of Xaj n\\ncounty, has been invited by Klwoo.i\\nMead, of the interior departn at. to\\njoin a party bound for IVrsi: .\\n• a\\n/*/\\nU\\nThe Improved Aspirin\\nGives relief from pain, coids,\\nHeadache, neuralgia and helps\\nremove the cause of the trou\\nble. Perfectly harmless. Get\\nBro-Asprin the next time, it is\\na proven scientific development.\\nSold and recommended by\\nLO¥ND DRUG CO.\\nPrescription Druggists\\nMAIN AT SIXTH\\nTelephone 100\\nEL CENTRO, CALIFORNIA\\nV/€\\nwest coast\\ncY\\nDIRECTION WEST COAST THEATRES\\nMATINEE SAT. 2:30 P. M. NIGHTS 7 AND 9 P. M.\\nLAST TIMES TODAY\\nColleen Moore\\nIN\\n“Irene”\\nTOMORROW AND THURSDAY\\nANOTHER BIG DOUBLE BILL\\nNorma Shearer\\nIN\\n“The\\nDevil’s\\nCircus”\\nAND\\nLea trice Joy\\n“Made\\nFor\\nLove”\\nPRICES: CHILDREN 10c: ADULTS 35c; LOGES 50c\\nFOOT\\nOR LEG\\nPAINS 7\\nWEAK\\nankle?\\nSORE\\nTENDER HEFL?\\nWEAK,ARCH 7\\nCALLOUSES 7\\nBUNION 7\\nCROOKED OR OVERLAPPING TOE ?\\nFree Foot Comfort\\nDEMONSTRATION\\nFriday, March 19\\nSeven persons out of every ten have some form of foot trouble. It\\nmay be weak or broken-down arches, weak ankles, corns, cal\\nlouses or bunions or probably a case of tired, aching, painful feet.\\nRegardless of what may be the narure of your foot suffering,\\nyou will find quick and lasting relief at our store during this\\nspecial demonstration.\\nFoot Comfort Expert from Personal\\nStaff of Dr. Wm. >. i. Scholl\\nAt considerable expense this store has arranged for the services\\nof one of Dr. Scholl’s most skilled foot comfort experts. He will\\nbe pleased to see, on the above date, all persons suffering from\\nany form of foot troubles. His services are abiolutdy free.\\nFree Pedograph Prints of Your Feet\\nIn a few\\' seconds’ time, without removing the hose, he can make\\na perfect impression of your foot that positively shows il you do\\nhave foot troubles and to what stage the trouble has progressed.\\nCome in and get a sample of Dr.Scholl’s Zino-pads for corns. They\\nnmove uie cause —friction and pressure. Sure, safe, instant relief.\\nROY L. RUMSEY\\nr»01 Main Street\\nEl Centro\\nCalifornia\\nIMPERIAL VALLEY ,\\nGRAPEFRUIT BEST\\nIN ENTIRE WORLD\\nImperial Valiev grapefruit are de\\nclared the best m tlie world by\\nJudge Frank C. Collier of the 1 -\\nAnceles snpeGn- court, who has\\nwritten to IT \\'tuirin v l*t\\nlev asking that offh-i 1 t-> ship him\\na box of valley grapefruit.\\nJudge Collier held court here for\\na short time last year and became\\nso fond of the Imperial Valiev\\ngrapefruit that he to\\'ok a box back\\nwith him upon his return 1 1 bos.\\nAng-de-. mid since that time lie lia«\\nsent in orders for several more,\\n“ Strange ns it may seem.’’ the\\nI.os Angelos juiist writes, *• it is\\ndifficult to get Imperial Valley\\ngrapefruit here and as we enjoy no\\nother brand 1 am asking you to help j\\niis out. My family ns well as f.j\\nare strong lmnsteis for Imperial\\nValiev grapefruit and we are de-1\\ntermilied to get them if we have to\\nmake a special trip to tli-• va\\'lcy for\\nthem.\"\\nThe iedae is getting his grape\\nfruit, the district attorney stated.\\nJAPANESE CHARGE CASH\\nUSED BY SOVIET AGENTS\\nTOKYO. March id. Charges\\nmad,, on the floor of the diet re\\ncentlv that Beputv X\\'akano rectivcd\\n100,000 yen From Soviet sotarces f •\\nspreading communistic propaganda\\nhave been referred to an investiga\\ntion committee. The furore pre\\ncipitated by tile charges has “lib\\nsiilcd and today\\'s diet session was\\nquiet.\\nThe Orlatid. Glenn county, citrus\\n.T-socii ion -hipped 7030 boxes of\\noranges this season, filling IS ears.\\nReading maketli a full man. And\\nit also maketli a lar.v man.\\nNEW GOLD RUSH RIVALS ALASKA’S .\\n—At top. dog team of the type that are being used in the Red Lake goto rusn. Left, the Hi s n y\\npost at Lac Suel. halfway point o n the trail from Hudson to the mine region. Right is a m. P\\ncountry showing the location of R cd Lake and of Hudson, “jumping off place ’ for the prospectors.\\nBy NEA Service\\nIH’HSON. Ontario, Manll Id.\\nThe shaggv huskies and their iron\\n! hearted drivers arc initward bound\\nj once more outward bound oil the\\nj long, hard, snow covered trail that\\n‘ b ads to the land of gold..\\nA new gold rush is on, a gold rush\\n; that is exjw cted to grow to the pro\\ni portions of the famous Alaska rush\\nj of tfie late nineties.\\nFp in a forsaken, barren corner\\nof Ontario. ne:i r the Manitoba bor\\nder. lies Red Lake\\', an isolated\\nstretch of ice bound water sur\\nrounded bv a howling wilderness.\\nAnd the hills that surround Red\\nLake tire full of yellow gold.\\nGovernment officials who have\\ninvestigated believe the strike will\\n. prove one of the richest ever turned\\nin America—and that includes Cali\\nfornia. Yukon and tlie Klondike.\\nHudson is the jumping off place\\nIt is an insignificant station on tin\\ntrascontmental railway, but it is\\nthe gateway to the Yukon, and\\nit is taking on an importance out of\\nall pro|>ortion to its size.\\nI>og teams are being assembled\\nhere, loads of supplies come in on\\neach train, grizzled old prosp.-tor\\nero going over their outfits. Tic\\ngold rush is on!\\nBrothers Started It!\\nIt all began when two brothers.\\nLome and Kay Jlowev, headed up\\ninto the Red Lake territorv last\\nJune to do some prospecting. Thev\\nWere old time piospeetors. used to\\nhardship and toil. They spent the\\nsummer, fall and part of the winter\\nt here.\\n‘‘We reached the lake on Julv Id\\nand started in at once sectioning off\\nthe country with exploration lines\\nmross the strike of the formation.’\\nsay- Lome llowey. “Systematic\\nprospecting—that\\'s the onlv wav to\\ngo at it. We took samples of quartz,\\nveils as we rail across them, crush\\ned the quartz and panned it for\\ngold, but found nothing until July\\n30, when 1 ran across a little\\n•stringer,’ which proved to be 50\\nfeet off tli,, main body.\\n“Then we struck out in different,\\ndirections to see just what we had\\nfound. We traced the quartz 900\\nfeet to the east. It turned out that\\nwe were working along a vein that\\nwas eight feet wide in some places\\nand -11 feet wide in others, wuh a\\nnumber of nire showings in it. We\\n+\\nLonnie Brae and Fifth St.\\nLOS ANGELES\\nContinental Plan\\n$2.50 per day\\nRoom With Bath\\nIncluding Breakfast\\nA beautiful new Hotel in West\\nlake Park District, close to shop\\nping and Theatre Center. Hotel\\nis operated by The Arlington of\\nSanta Barbara, under Mr. Rich\\nmond’s management.\\nAfternoon Tea\\nUnique Service Shops\\nICO single rooms with bath\\nj 40 splendidly arranged suites\\nContinental Plan\\n52.50 a day with breakfast\\n52.00 a day children under 12 •\\n52.00 a day servants .\\nHere’s Joyful News!\\nThis THURSDAY Nile\\nat that Poppy\\nDance, in\\nCalipatria.\\nWe’re Gonna Have a\\nHard Time Party!\\nIt’ll he hard\\nto stay away—\\nhard to quit\\ndancing!\\nWear your worst\\nRags—treat your\\nfeet on the\\nkeenest floor\\never made!\\nYours for fun\\nJ. G. WIRT\\nvt:ikofl out \\'22 rl.iims then\\nwvnt to record Uhoh jhhl toll our\\nfriends.\\nJohn Ham.mell, formerly of Mani\\ntnlm. joined the Iloweys in forming\\nthe.l,Yd Lake syndicate, and a work\\nii.g ujitiiiii was sold a* wliat is said\\nto i-b one of the largest juices ever\\npaid for an Ontario mining prospect\\nOther prospectors have only now\\ngotten wind of the project, and tin\\nrush to Red Lake is beginning in\\nfull swing.\\nSome of tb ( . world\\'s biggest min\\ning interests are rushing represen\\ntatives in, the government is taking\\nsupplies to Red Lake, the northwest\\nmounted jiolice have placed a pa\\ntrol in the district for the first\\ntime and hundreds of claims arc be\\ning staked.\\nJust now th,> only way to reach\\nRed Lake is by dog team, in the\\ntoilsome, romantic old style of the\\nMaska gold rush. Teams- of six\\nand eight huskies, hitched to nine\\ntoot toboggans, are following the\\ntrail down th ( , arm of Lac Seal,\\noverland for manv miles until they\\nstrike the Red Lake river, and down\\nthe ire bound course of that stream\\nto the lake itself.\\nWhen summer comes three air\\nplanes will be put into service. This\\nnew tinkle in gold rush travel is\\nexjM‘l ted to increase the flood of\\nJirospectors. The Hudson Bay com\\npanv also plans to install motorboat\\nservice on San Scul and Red Lake.\\nRich Workings\\nTo get an idea of the value of the\\nRed Lake strike, if must be under\\n-rood that mining companies can\\nmake monev nut of ore that\\n■issavs onlv $-1 to the ton; that some\\n< f the richest mines average only *S\\nto the ton —and that tli,. Red Lake\\nquartz as-avs .*.’d to the loti on a\\n1100 foot stretch.\\nTemperatures in the Red Lake re\\ngion at this time of year go down\\nas low as GO below zero. Tit,, only\\nBuildings that have been erected in\\nthe neighborhood are an assay of\\nfice and a bathhouse. The latter is a\\nbare room containing a huge fire\\nplace. Big boulders are heated in\\nthe fire; then tli,, fire is raked out\\nand water is tossed on the boulders.\\nTlie room is thus filled with steam\\nand eight men can use it at a time.\\n‘‘That bath is a Godsend after\\nmushing 150 miles,\" says llowev.\\nThe prospectors live in tents,\\n\"dll leg sid\\'-s. I Yu,lit,. they cold,\\nthey are comfortable.\\nAnd, even when they aren’t —-\\nthere’s gold up there!\\nDAIRYMEN’S FIELD\\nMEETING THURSDAY\\nj Dairymen of the valley are re-j\\nminded that the dairymens\\' field\\nmeet in j\\'s. recently announced bv\\nAssistant Farm Advisor Vern lie-j\\nTar. come on Thursday and Kridav\\nof this week.\\n“How to Select a Good Dairy\\nj Animal,’’ and “Fitting Dairy Ani\\n; nials for Show,” will be the sub\\n\\' iects discussed, both being of par\\nticular interest to dairymen of this\\n| county. Vnder the first subject,\\nsuggestions of practical value in\\n\\'iiirehnsing animals at public nuc\\ni * lons will lie included. O. 11. Gor\\ndon. specialist in dairying, agricul\\ntural extension service,. T’niversity\\nlof California, will speak on that\\n: subject. i *\\nF.ach year the dairymen of the\\ni valley are taking a greater interest\\nj in the Imperial Valley Mid-Winter .\\n[ Fair. For this reason, DoTar will ,\\n’ oive information as to methods of\\nI improving the appearance of dairy\\n| animals to be shown.\\n; The schedule for ‘he meetings is\\nj as follows:\\nThursday. 9:10 a. m., 11. C. Farns\\ni worth ranch, 2 miles south of El\\nCentro and one half mile east of\\nCalexico pavement. At 1:10 in the\\nafternoon the meeting will be at\\nthe W. M. Bacliar ranch, 2 miles\\nwest and one half mile north of\\nj Brawler.\\nFridav, 9:10 a. m., AV. C. Htnrner\\nranch, four miles south and one half\\nmile west of Holtville. A ItIO in\\nthe afternoon at the 11. E. Ilocker\\nranch. 2Vj miles south of the Alamo\\nstore.\\nThe northern persimmon growers\\nI have the following directorate: M.\\n.1. Newkon, EiP\\'ene Morrison, Sutter\\ncounty: E. F. Fowler. Edward Van\\nTJinor, Placer county: Tt. C. Ingram.\\n.1. 11. Burt. Butte pountv: Marion E.\\nGrcgorv. W. O. Allen, Yuba county;\\nIT. P. Stabler, director at large.\\nThirty five poultrymcn, with 8000\\nhens, have formed a poultry\\nciation at Bieber, Lassen county.\\nTHE IMPERIAL VALLBf PRESS\\nATTORNEY GENERAL\\nSAYS UTLEY RIGHT\\nAn opinion rendered by District\\nVtforuey I\\'tley, relative to school\\nPoints issued by the Holtville gram\\nm:ir school district, has boon upheld\\nlie Attorney General Webb, accord\\ni.ij to a h-ltor received at the llis\\ntrict attorney’s office this morn\\ning.\\nI’ndor the state law a school dis\\ntrict can vote a bonded indebted\\nness not greater than 5 per cent of\\nthe taxable property within the dis\\ntrict. This action was taken by the\\nHoltville school district some years\\nago. Later the supervisors reduc\\ned the valuation of property through\\nout the county so the district found\\nitself bonded to more than 5 per\\ncent.\\nSome of the bonds remained un\\nsold and when they were offered\\nfor sale recently, purchase was re\\nfused on the ground that the bonds\\nwere not legal. The district attor\\nney was appealed to for a decision\\nand he declared that the action of\\nthe supervisors in reducing the pron\\ne«ty valuation did not render the\\nbonds void.\\nThis opinion was submitted to At\\ntorney General Webb for eonfirma\\nation. and his letter received this\\nmorning cites several >ti-‘:inces to\\nprove that tbe Ifoltvill bonds are\\nleeal iii every respeet.\\nThe opinion will be welcomed bv\\n♦ovpnyers in the Holtville district,\\nT\\'tlev said, as contract for addition\\nal school buildings had been let but\\nthe work could not be started pend\\ning a decision upon the bonds.\\nFRESS HEAPS FROM\\nFORMER RESIDENT\\nAnother proof flint former resi\\n<lent* of the valley to keen in touch\\nwith affairs here is fonml in n let\\nter rc\\'-pived bv the Press from IT.\\nf, Stevens, better known ns\\n“Steve,” formerly proprietor of\\nSteve’s f’offee Shop.\\n“Steve” is now operating n rest\\naurant in Los Angeles.\\n“Send os the Press.” he writes,\\n“so that Mrs. Stevens and T can\\nVeep in toneh with all our friends in\\nthe valley. We want to know what\\nis going on down there and keep\\ntrack of all the old timers.”\\n“Steve” sends his best wishes to\\nall his friends and assures them of\\na roval welcome when tliev visit\\nLos Angeles, if they will call in to\\nsee him.\\nf\\'howchilla. Madera eonntv, sold\\n■ts.\\'.ooo worth of egg s in 1020.\\nA 320 acre ranch at Madera was\\nsold recently for $42,000.\\nMonterey reports unusual catches\\nof red sea eels at low water._\\nMilmur. Merced county, last year\\ngrew 7d,000 sacks of beans.\\nWatch\\nYour\\nBreakfast\\nEnergetic Mornings\\nDepend on Breakfast\\n—Start Always with\\nQuaker Oats\\nHOW you feel all morning de\\npends largely on what you eat\\nfor breakfast. Thousands have unen\\nergetic forenoons because of wrong\\nbreakfast eating.\\nTo feel right, you must have a well\\nbalanced, complete breakfast ration.\\nAt most other meals lunch and\\ndinner —you get it. But breakfast is\\na hurried meal, often badly chosen.\\nThus Quaker Oats, containing 16%\\nprotein, food\\'s great tissue builder;\\n58% carbohydrate, its great energy\\nelement, plus all-important vita\\nmines and the “bulk\" that makes\\nlaxatives seldom needed, is the die\\ntetic urge of the world today.\\nIt is food that “stands by” you\\nthrough the morning. Quick Quaker\\ncooks in 3 to 5 minutes. That’s faster\\nthan plain toast. Don’t deny your\\nself the natural stimulation this rich\\nood offers.\\nQuaker Oats\\nBEAN IS BEFORE\\nL. A. GRAND JURY\\n(Confined from page 1)\\nj main floor and into the street,\\nj through the lobby of the building.\\nI Bystanders caught two of the\\nj men, and three got away. Docker\\nj was seriously hurt when he fell in\\nthis flight and injured his spine, lie\\ni hud fallen two stories in his flight\\nland was badly injured.\\n| Tlu> prisoners who escaped had\\n\\' been removed from the tenth to the\\nj ninth floor\\' of the jail last week\\nwhen they were discovered “dig\\n| ging out. ’’\\nThis was done so that if any fur\\nther “digging operations” wer\"\\nsuccessful the prisoners would si ill\\nfind themselves inside the jail aftei\\ncompleting their work.\\nThe escape caused a sensation in\\ndowntown Los Angeles. Scoies of\\nworkers enroute to their offices\\nwitnessed the dash from the hall of\\njustice lobby and many of them\\ntook part in the chafe after the flee\\ning criminals.\\nA xijitad of deputies, armed with\\nsawed off shotguns, climbed into\\ntheir automobiles and took op the\\ntiail of the missing t rio.\\nFugitives Described\\nThe fugitives were described by\\ntile sheriff\\'s office as follows; •\\nKatie -I. t\\'lark, 21120 251st street.\\nHarbor City, wanted for murder.\\nHeight five feet, eight inches,\\nmight 170 pounds; white, age L’ti;\\nrelatives: Grace Munis, San Angelo,\\nTi xas.\\nCharles .1. Fitzgerald. Illtl Hast\\nFourth street. Los Vngcies, wanted\\ntor murder. Height, five feet, iiiiie*\\ninches; weight lad pounds; idi e.\\nage 40; relatives: none.\\nHubert Wilson, A jax hoti I, Los\\n\\\\ngeles, wanted for robbery.\\nHeight five feet, 10 inches; weight\\nlad pounds; while, aged 22; rela\\ntives; Mrs. I*. Nhailel, dMi.l Howard\\nstreet, Sail Diego.\\nInvestigations Started\\nJailor David Croushorn establish\\ncd a cordon of heavily armed dep\\nuties around the entire jail. Offi\\ncers with sawed off shotguns were\\nposted in all the corridors.\\nInvestigation revealed that Dan\\niels was suffering from a deep gash\\nin the head. The guard, while in\\na serious condition, was c\\\\oc.-tc,| ; >\\nrecover.\\nThe jail, following* the break. Was\\na turmoil of excitement, Prisoners\\ncrowded against the h;.rs of their\\ntanks, and made a bedlam of noise\\nwith their shouting.\\nDuring the delivery, more than\\n•wo score prisoners sat in ad joining\\ntanks and maintained complete sil\\nence whil,, the six desperadoes dash\\ned for liberty.\\nActing District AMotai.* Huron\\nlitss hurried to the scene i f ;hc\\nbreak from his home iuinu-dintclv\\nafter he had been not \\' ed. He\\nstarted an investigation at once.\\nA number of the Los Angeles\\nI\\nWM9\\nOur Big Special\\nTomorrow\\nGingham\\n7 yds. for $1 ##\\n—Another genuine bargain tomorrow, Gingham!\\nThis dandy material which is so useful to the house\\nwife, is 32 inches wide. All new shades in stripes\\nand checks. What could be prettier than a little\\nhouse dress of Gingham? This regular 25c yard ma\\nterial on sale tomorrow only, at\\n7 yards for $l.OO\\nVARNEY BROS.® CO.\\nS. AND H. GREEN STAMPS\\n-GREATER VALUES\\n* Announcement For Thursday:\\nMen\\'s Soisette Palmdayl Shirts\\nThese Regular $2.50 Shirts $1.89\\n========\\nMarch 27 9 Opportunity\\nDay — Watch for It!\\nHIGH SCHOOL TO\\nPRESENT A KEEN\\nCOMEDY FRIDAY\\nI’eplete with college atmosphere\\nand all the fun tun; goes with it.\\n“Hold That Line, Jimmy,” the\\nKeen cortiedv to he presented hv the\\nsenio r class of the‘high school in\\nFriday and Satiir.-av nights of this\\nweek promises to he something 1111 -\\nusual in the way of am.\\'ituer per\\nfo mill 11 ees.\\nFinishing work is rap\\'ollv being\\ncompleted by the east, and all indi\\ncations point to an uinisuallv sue\\ncounty gaud jurors, scheduled to\\nsfait a probe of the jail today, also\\narrived on the scene.\\nHhrrift William I. Traeger and\\nl, lulersheriff Liigene Hiscailiiz also\\nlooked over the situation, and start\\ned an immediate investigation of\\ntie latest escapades.\\nPa\\nWEST COAST\\nDIRECTION WEST COAST THEATRES INC\\nTODAY ONLY\\n/] ELEANOR BOAKDMAN\\ni icture Oj With AND\\nDramatic Truths ~ MALCOLM MacGREGOR\\nm\\na.\\nfit\\nTOMORROW ONLY\\nJoseph Conrads\\n— *1 *\\' /**\\nPercy Marmont\\nNoah Beerv\\nShirley Mason\\nRaymond Hatton\\nA Thrilling Action\\nStory of the Sea\\nPRICES: CHILDREN 10c: ADULTS 30c\\nsfc\\nN\\ndt\\\\\\nTuesday, March 16, 1926\\ncesifnl play.- according to Miss\\nThelma Topton, faculty coach.\\nTickets, which are on sale by the\\nstudents and at Loynil *s drug store\\nwhere reserved seats may he obtain\\ned are going rapidly. Already a\\nlarge number have been sold for the\\nfirst porfotmnnoo.\\nThe plav is noteworthy in that i!\\nwas writttn for college presenta\\ntion. and has been given in most of\\nHie larger institutions of the eoun\\ntty. Ho well it is adapted to pro\\nduction bv a high school cast, that\\nthe class believes that it can offer\\na production that will he highly en\\njoyable and ipiile professional in its\\nprehentntion.\\n■Frizes ure being offered to tin*\\nboy or girl wh osells (lie largest\\nnumber of tickets and this in addi\\ntion to the clever advertising stunts\\nto lie used, is expected to bring a\\nrecord size atulience.\\nThe Pope Valley farm center,\\nNapa county, is fighting for electric\\nlights, improving of the telephone\\nsystem and the building of a union\\nhigh school.', 'batch': 'curiv_ocotillo_ver01', 'title_normal': 'imperial valley press.', 'url': 'https://chroniclingamerica.loc.gov/lccn/sn92070146/1926-03-16/ed-1/seq-8.json', 'place': ['California--Imperial--El Centro'], 'page': '8'}\n"
     ]
    }
   ],
   "source": [
    "print(results['items'][0])"
   ]
  },
  {
   "cell_type": "code",
   "execution_count": 6,
   "metadata": {
    "id": "kIcPNqHuKtJA"
   },
   "outputs": [
    {
     "name": "stdout",
     "output_type": "stream",
     "text": [
      "totalItems: 1187\n",
      "endIndex: 20\n",
      "startIndex: 1\n",
      "itemsPerPage: 20\n",
      "Length and type of items: 20 <class 'list'>\n"
     ]
    }
   ],
   "source": [
    "print('totalItems:', results['totalItems'])\n",
    "print('endIndex:', results['endIndex'])\n",
    "print('startIndex:', results['startIndex'])\n",
    "print('itemsPerPage:', results['itemsPerPage'])\n",
    "print('Length and type of items:', len(results['items']), type(results['items']))"
   ]
  },
  {
   "cell_type": "markdown",
   "metadata": {
    "id": "cxWJPQfUK5pA"
   },
   "source": [
    "The Chronicling America API returned 1,656 results. However, it will only display 20 at a time by default. I can add a new parameter `page=` to cycle through all the results, but first I need to know how many pages there will be. I can find this out by dividing `totalItems` (1,656) by `itemsPerPage` (20) and then round-up using `math.ceil`."
   ]
  },
  {
   "cell_type": "code",
   "execution_count": 7,
   "metadata": {
    "id": "OmJIDL1lKy0g"
   },
   "outputs": [
    {
     "name": "stdout",
     "output_type": "stream",
     "text": [
      "60\n"
     ]
    }
   ],
   "source": [
    "# find total amount of pages\n",
    "total_pages = math.ceil(results['totalItems'] / results['itemsPerPage'])\n",
    "print(total_pages)"
   ]
  },
  {
   "cell_type": "markdown",
   "metadata": {
    "id": "-Gca6IQYUEVx"
   },
   "source": [
    "Now that I know how many pages there will be, I can use a for loop to iterate through each result page and then each item on each result page. I then gather the data I want from each item: newspaper title, city, date, and text.\n",
    "\n",
    "Notice in the code below I placed the url string in parentheses () so that I could break it up over multiple lines making it easier to read.\n",
    "\n",
    "Also, for the sake of this demonstration, I am only iterating over 10 pages. For the full results the for loop should begin: `for i in range(1, total_pages+1)` (the `+1` is necessary becase the seond number in the range function is exclusive)."
   ]
  },
  {
   "cell_type": "code",
   "execution_count": 8,
   "metadata": {
    "id": "C0pZe96qBP_J"
   },
   "outputs": [],
   "source": [
    "# create empty list for data\n",
    "data = []"
   ]
  },
  {
   "cell_type": "code",
   "execution_count": 9,
   "metadata": {
    "id": "pg63qYBuBVU3"
   },
   "outputs": [],
   "source": [
    "# set search parameters\n",
    "start_date = '1870'\n",
    "end_date = '1945'\n",
    "search_term = 'gold_rush'\n",
    "state = 'California'"
   ]
  },
  {
   "cell_type": "code",
   "execution_count": 10,
   "metadata": {
    "id": "Upp6d0I9UDy6"
   },
   "outputs": [
    {
     "name": "stdout",
     "output_type": "stream",
     "text": [
      "page 1 status code: 200\n",
      "page 2 status code: 200\n",
      "page 3 status code: 200\n",
      "page 4 status code: 200\n",
      "page 5 status code: 200\n",
      "page 6 status code: 200\n",
      "page 7 status code: 200\n",
      "page 8 status code: 200\n",
      "page 9 status code: 200\n",
      "page 10 status code: 200\n"
     ]
    }
   ],
   "source": [
    "# loop through search results and collect data\n",
    "for i in range(1, 11):  # for sake of time I'm doing only 10, you will want to put total_pages+1\n",
    "    url = (f'https://chroniclingamerica.loc.gov/search/pages/results/?state={state}&date1={start_date}'\n",
    "           f'&date2={end_date}&proxtext={search_term}&x=16&y=8&dateFilterType=yearRange&rows=20'\n",
    "           f'&searchType=basic&format=json&page={i}')  # f-string\n",
    "    response = requests.get(url)\n",
    "    raw = response.text\n",
    "    print(f'page {i} status code:', response.status_code)  # checking for errors\n",
    "    results = json.loads(raw)\n",
    "    items_ = results['items']\n",
    "    for item_ in items_:\n",
    "        row_data = {}\n",
    "        try:\n",
    "          row_data['title'] = item_['title_normal']\n",
    "        except:\n",
    "          row_data['city'] = \"none\"\n",
    "        try:\n",
    "          row_data['city'] = item_['city']\n",
    "        except:\n",
    "          row_data['city'] = \"none\"\n",
    "        try:\n",
    "          row_data['date'] = item_['date']\n",
    "        except:\n",
    "          row_data['date'] = \"none\"\n",
    "        try:\n",
    "          row_data['raw_text'] = item_['ocr_eng']\n",
    "        except:\n",
    "          row_data['raw_text'] = 'none'\n",
    "    data.append(row_data)"
   ]
  },
  {
   "cell_type": "code",
   "execution_count": 11,
   "metadata": {
    "id": "q-ctFdtSBa-u"
   },
   "outputs": [],
   "source": [
    "# put data into DataFrame\n",
    "df = pd.DataFrame.from_dict(data)"
   ]
  },
  {
   "cell_type": "code",
   "execution_count": 12,
   "metadata": {
    "id": "prL29Su_msjb"
   },
   "outputs": [
    {
     "data": {
      "text/html": [
       "<div>\n",
       "<style scoped>\n",
       "    .dataframe tbody tr th:only-of-type {\n",
       "        vertical-align: middle;\n",
       "    }\n",
       "\n",
       "    .dataframe tbody tr th {\n",
       "        vertical-align: top;\n",
       "    }\n",
       "\n",
       "    .dataframe thead th {\n",
       "        text-align: right;\n",
       "    }\n",
       "</style>\n",
       "<table border=\"1\" class=\"dataframe\">\n",
       "  <thead>\n",
       "    <tr style=\"text-align: right;\">\n",
       "      <th></th>\n",
       "      <th>title</th>\n",
       "      <th>city</th>\n",
       "      <th>date</th>\n",
       "      <th>raw_text</th>\n",
       "    </tr>\n",
       "  </thead>\n",
       "  <tbody>\n",
       "    <tr>\n",
       "      <th>0</th>\n",
       "      <td>imperial valley press.</td>\n",
       "      <td>[El Centro]</td>\n",
       "      <td>19361227</td>\n",
       "      <td>What Mammy Pleasant’s Sinister Power?\\nThe Sto...</td>\n",
       "    </tr>\n",
       "    <tr>\n",
       "      <th>1</th>\n",
       "      <td>imperial valley press.</td>\n",
       "      <td>[El Centro]</td>\n",
       "      <td>19251228</td>\n",
       "      <td>2\\nSOCIETY AND CLUE NEWS\\nESTHER RALSTON\\nAND ...</td>\n",
       "    </tr>\n",
       "    <tr>\n",
       "      <th>2</th>\n",
       "      <td>san francisco call.</td>\n",
       "      <td>[San Francisco]</td>\n",
       "      <td>19030909</td>\n",
       "      <td>themselves to realize that the men who\\nflocke...</td>\n",
       "    </tr>\n",
       "    <tr>\n",
       "      <th>3</th>\n",
       "      <td>imperial valley press.</td>\n",
       "      <td>[El Centro]</td>\n",
       "      <td>19121204</td>\n",
       "      <td>THE EL CENTRO NATIONAL BANK\\n•\\nDIRECTORS\\nW. ...</td>\n",
       "    </tr>\n",
       "    <tr>\n",
       "      <th>4</th>\n",
       "      <td>san francisco call.</td>\n",
       "      <td>[San Francisco]</td>\n",
       "      <td>19130309</td>\n",
       "      <td>62\\nRochester Begins Like All New Camps\\nEVERY...</td>\n",
       "    </tr>\n",
       "  </tbody>\n",
       "</table>\n",
       "</div>"
      ],
      "text/plain": [
       "                    title             city      date  \\\n",
       "0  imperial valley press.      [El Centro]  19361227   \n",
       "1  imperial valley press.      [El Centro]  19251228   \n",
       "2     san francisco call.  [San Francisco]  19030909   \n",
       "3  imperial valley press.      [El Centro]  19121204   \n",
       "4     san francisco call.  [San Francisco]  19130309   \n",
       "\n",
       "                                            raw_text  \n",
       "0  What Mammy Pleasant’s Sinister Power?\\nThe Sto...  \n",
       "1  2\\nSOCIETY AND CLUE NEWS\\nESTHER RALSTON\\nAND ...  \n",
       "2  themselves to realize that the men who\\nflocke...  \n",
       "3  THE EL CENTRO NATIONAL BANK\\n•\\nDIRECTORS\\nW. ...  \n",
       "4  62\\nRochester Begins Like All New Camps\\nEVERY...  "
      ]
     },
     "execution_count": 12,
     "metadata": {},
     "output_type": "execute_result"
    }
   ],
   "source": [
    "df.head()"
   ]
  },
  {
   "cell_type": "markdown",
   "metadata": {
    "id": "z509dIQEep7G"
   },
   "source": [
    "### Change date format\n",
    "Pandas allows us to clean and edit our data easily (relatively). We can first convert the string values in the date column to properly formated dates and then sort the dataframe by date."
   ]
  },
  {
   "cell_type": "code",
   "execution_count": 13,
   "metadata": {
    "id": "z1fENcFaZJIx"
   },
   "outputs": [],
   "source": [
    "# convert date column from string to date-time object\n",
    "df['date'] = pd.to_datetime(df['date'])"
   ]
  },
  {
   "cell_type": "code",
   "execution_count": 14,
   "metadata": {
    "id": "4c0otcZIey1D"
   },
   "outputs": [
    {
     "data": {
      "text/html": [
       "<div>\n",
       "<style scoped>\n",
       "    .dataframe tbody tr th:only-of-type {\n",
       "        vertical-align: middle;\n",
       "    }\n",
       "\n",
       "    .dataframe tbody tr th {\n",
       "        vertical-align: top;\n",
       "    }\n",
       "\n",
       "    .dataframe thead th {\n",
       "        text-align: right;\n",
       "    }\n",
       "</style>\n",
       "<table border=\"1\" class=\"dataframe\">\n",
       "  <thead>\n",
       "    <tr style=\"text-align: right;\">\n",
       "      <th></th>\n",
       "      <th>title</th>\n",
       "      <th>city</th>\n",
       "      <th>date</th>\n",
       "      <th>raw_text</th>\n",
       "    </tr>\n",
       "  </thead>\n",
       "  <tbody>\n",
       "    <tr>\n",
       "      <th>0</th>\n",
       "      <td>imperial valley press.</td>\n",
       "      <td>[El Centro]</td>\n",
       "      <td>1936-12-27</td>\n",
       "      <td>What Mammy Pleasant’s Sinister Power?\\nThe Sto...</td>\n",
       "    </tr>\n",
       "    <tr>\n",
       "      <th>1</th>\n",
       "      <td>imperial valley press.</td>\n",
       "      <td>[El Centro]</td>\n",
       "      <td>1925-12-28</td>\n",
       "      <td>2\\nSOCIETY AND CLUE NEWS\\nESTHER RALSTON\\nAND ...</td>\n",
       "    </tr>\n",
       "    <tr>\n",
       "      <th>2</th>\n",
       "      <td>san francisco call.</td>\n",
       "      <td>[San Francisco]</td>\n",
       "      <td>1903-09-09</td>\n",
       "      <td>themselves to realize that the men who\\nflocke...</td>\n",
       "    </tr>\n",
       "    <tr>\n",
       "      <th>3</th>\n",
       "      <td>imperial valley press.</td>\n",
       "      <td>[El Centro]</td>\n",
       "      <td>1912-12-04</td>\n",
       "      <td>THE EL CENTRO NATIONAL BANK\\n•\\nDIRECTORS\\nW. ...</td>\n",
       "    </tr>\n",
       "    <tr>\n",
       "      <th>4</th>\n",
       "      <td>san francisco call.</td>\n",
       "      <td>[San Francisco]</td>\n",
       "      <td>1913-03-09</td>\n",
       "      <td>62\\nRochester Begins Like All New Camps\\nEVERY...</td>\n",
       "    </tr>\n",
       "  </tbody>\n",
       "</table>\n",
       "</div>"
      ],
      "text/plain": [
       "                    title             city       date  \\\n",
       "0  imperial valley press.      [El Centro] 1936-12-27   \n",
       "1  imperial valley press.      [El Centro] 1925-12-28   \n",
       "2     san francisco call.  [San Francisco] 1903-09-09   \n",
       "3  imperial valley press.      [El Centro] 1912-12-04   \n",
       "4     san francisco call.  [San Francisco] 1913-03-09   \n",
       "\n",
       "                                            raw_text  \n",
       "0  What Mammy Pleasant’s Sinister Power?\\nThe Sto...  \n",
       "1  2\\nSOCIETY AND CLUE NEWS\\nESTHER RALSTON\\nAND ...  \n",
       "2  themselves to realize that the men who\\nflocke...  \n",
       "3  THE EL CENTRO NATIONAL BANK\\n•\\nDIRECTORS\\nW. ...  \n",
       "4  62\\nRochester Begins Like All New Camps\\nEVERY...  "
      ]
     },
     "execution_count": 14,
     "metadata": {},
     "output_type": "execute_result"
    }
   ],
   "source": [
    "df.head()"
   ]
  },
  {
   "cell_type": "code",
   "execution_count": 15,
   "metadata": {
    "id": "wjTfqq38e0XB"
   },
   "outputs": [],
   "source": [
    "# sort by date\n",
    "df = df.sort_values(by='date')"
   ]
  },
  {
   "cell_type": "code",
   "execution_count": 16,
   "metadata": {
    "id": "3XYFLmRhe7Gp"
   },
   "outputs": [
    {
     "data": {
      "text/html": [
       "<div>\n",
       "<style scoped>\n",
       "    .dataframe tbody tr th:only-of-type {\n",
       "        vertical-align: middle;\n",
       "    }\n",
       "\n",
       "    .dataframe tbody tr th {\n",
       "        vertical-align: top;\n",
       "    }\n",
       "\n",
       "    .dataframe thead th {\n",
       "        text-align: right;\n",
       "    }\n",
       "</style>\n",
       "<table border=\"1\" class=\"dataframe\">\n",
       "  <thead>\n",
       "    <tr style=\"text-align: right;\">\n",
       "      <th></th>\n",
       "      <th>title</th>\n",
       "      <th>city</th>\n",
       "      <th>date</th>\n",
       "      <th>raw_text</th>\n",
       "    </tr>\n",
       "  </thead>\n",
       "  <tbody>\n",
       "    <tr>\n",
       "      <th>2</th>\n",
       "      <td>san francisco call.</td>\n",
       "      <td>[San Francisco]</td>\n",
       "      <td>1903-09-09</td>\n",
       "      <td>themselves to realize that the men who\\nflocke...</td>\n",
       "    </tr>\n",
       "    <tr>\n",
       "      <th>3</th>\n",
       "      <td>imperial valley press.</td>\n",
       "      <td>[El Centro]</td>\n",
       "      <td>1912-12-04</td>\n",
       "      <td>THE EL CENTRO NATIONAL BANK\\n•\\nDIRECTORS\\nW. ...</td>\n",
       "    </tr>\n",
       "    <tr>\n",
       "      <th>4</th>\n",
       "      <td>san francisco call.</td>\n",
       "      <td>[San Francisco]</td>\n",
       "      <td>1913-03-09</td>\n",
       "      <td>62\\nRochester Begins Like All New Camps\\nEVERY...</td>\n",
       "    </tr>\n",
       "    <tr>\n",
       "      <th>1</th>\n",
       "      <td>imperial valley press.</td>\n",
       "      <td>[El Centro]</td>\n",
       "      <td>1925-12-28</td>\n",
       "      <td>2\\nSOCIETY AND CLUE NEWS\\nESTHER RALSTON\\nAND ...</td>\n",
       "    </tr>\n",
       "    <tr>\n",
       "      <th>6</th>\n",
       "      <td>imperial valley press.</td>\n",
       "      <td>[El Centro]</td>\n",
       "      <td>1926-03-20</td>\n",
       "      <td>4\\nIMPERIAL VALLEY PRESS ’\\nPUBLISHED BY IMPER...</td>\n",
       "    </tr>\n",
       "  </tbody>\n",
       "</table>\n",
       "</div>"
      ],
      "text/plain": [
       "                    title             city       date  \\\n",
       "2     san francisco call.  [San Francisco] 1903-09-09   \n",
       "3  imperial valley press.      [El Centro] 1912-12-04   \n",
       "4     san francisco call.  [San Francisco] 1913-03-09   \n",
       "1  imperial valley press.      [El Centro] 1925-12-28   \n",
       "6  imperial valley press.      [El Centro] 1926-03-20   \n",
       "\n",
       "                                            raw_text  \n",
       "2  themselves to realize that the men who\\nflocke...  \n",
       "3  THE EL CENTRO NATIONAL BANK\\n•\\nDIRECTORS\\nW. ...  \n",
       "4  62\\nRochester Begins Like All New Camps\\nEVERY...  \n",
       "1  2\\nSOCIETY AND CLUE NEWS\\nESTHER RALSTON\\nAND ...  \n",
       "6  4\\nIMPERIAL VALLEY PRESS ’\\nPUBLISHED BY IMPER...  "
      ]
     },
     "execution_count": 16,
     "metadata": {},
     "output_type": "execute_result"
    }
   ],
   "source": [
    "df.head()"
   ]
  },
  {
   "cell_type": "markdown",
   "metadata": {
    "id": "epH12SFJfJm6"
   },
   "source": [
    "### Process text\n",
    "We can now porcess our text for analysis. The text provded by Chronicling America comes from optical character recognition (ocr) and the accuracy of ocr can be low. Here I will remove new line characters (`\\n`), stop words, and then lemamtize the text.\n",
    "\n",
    "**Rememeber** the decisions you make in how to process your text should be based on the kind of analysis you want to do."
   ]
  },
  {
   "cell_type": "code",
   "execution_count": 17,
   "metadata": {
    "id": "m6Urrlffe8ro"
   },
   "outputs": [],
   "source": [
    "# write fuction to process text\n",
    "# load nlp model\n",
    "nlp = spacy.load(\"en_core_web_sm\")\n",
    "nlp.disable_pipes('ner', 'parser')  # these are unnecessary for the task at hand\n",
    "\n",
    "def process_text(text):\n",
    "    \"\"\"Remove new line characters and lemmatize text. Returns string of lemmas\"\"\"\n",
    "    text = text.replace('\\n', ' ')\n",
    "    doc = nlp(text)\n",
    "    tokens = [token for token in doc]\n",
    "    no_stops = [token for token in tokens if not token.is_stop]\n",
    "    no_punct = [token for token in no_stops if token.is_alpha]\n",
    "    lemmas = [token.lemma_ for token in no_punct]\n",
    "    lemmas_lower = [lemma.lower() for lemma in lemmas]\n",
    "    lemmas_string = ' '.join(lemmas_lower)\n",
    "    return lemmas_string"
   ]
  },
  {
   "cell_type": "code",
   "execution_count": 18,
   "metadata": {
    "id": "VkQk9wuXfrwM"
   },
   "outputs": [],
   "source": [
    "# apply process_text function\n",
    "# this may take a few minutes\n",
    "df['lemmas'] = df['raw_text'].apply(process_text)"
   ]
  },
  {
   "cell_type": "code",
   "execution_count": 20,
   "metadata": {
    "id": "7UU3K6rkfsRM"
   },
   "outputs": [],
   "source": [
    "# save to csv\n",
    "df.to_csv(f'../Downloads/{search_term}{start_date}-{end_date}.csv', index=False)"
   ]
  },
  {
   "cell_type": "code",
   "execution_count": null,
   "metadata": {},
   "outputs": [],
   "source": []
  }
 ],
 "metadata": {
  "colab": {
   "private_outputs": true,
   "provenance": []
  },
  "kernelspec": {
   "display_name": "Python 3 (ipykernel)",
   "language": "python",
   "name": "python3"
  },
  "language_info": {
   "codemirror_mode": {
    "name": "ipython",
    "version": 3
   },
   "file_extension": ".py",
   "mimetype": "text/x-python",
   "name": "python",
   "nbconvert_exporter": "python",
   "pygments_lexer": "ipython3",
   "version": "3.11.4"
  }
 },
 "nbformat": 4,
 "nbformat_minor": 1
}
