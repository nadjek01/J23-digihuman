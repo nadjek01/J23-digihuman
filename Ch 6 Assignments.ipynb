{
 "cells": [
  {
   "cell_type": "code",
   "execution_count": 5,
   "id": "29c38f2b",
   "metadata": {},
   "outputs": [
    {
     "name": "stdout",
     "output_type": "stream",
     "text": [
      "Nana\n",
      "Adjekum\n",
      "20\n",
      "boston\n"
     ]
    }
   ],
   "source": [
    "#6-1 Person\n",
    "person = {'firstName': 'Nana', \n",
    "          'lastName': 'Adjekum', \n",
    "          'age': '20',\n",
    "         'city': 'boston'}\n",
    "print(person['firstName'])\n",
    "print(person['lastName'])\n",
    "print(person['age'])\n",
    "print(person['city'])"
   ]
  },
  {
   "cell_type": "code",
   "execution_count": 10,
   "id": "81807b19",
   "metadata": {},
   "outputs": [
    {
     "name": "stdout",
     "output_type": "stream",
     "text": [
      "Nana's favorite number is 7.\n",
      "Josh's favorite number is 12.\n",
      "Alex's favorite number is 69.\n",
      "Evan's favorite number is 17.\n",
      "Will's favorite number is 18.\n"
     ]
    }
   ],
   "source": [
    "#6-2 Favorite Numbers\n",
    "favorite_numbers = {'nana' : '7',\n",
    "           'josh': '12',\n",
    "           'alex' : '69',\n",
    "           'evan' : '17',\n",
    "           'will' : '18'}\n",
    "num = favorite_numbers['nana']\n",
    "print(\"Nana's favorite number is \" + str(num) + \".\")\n",
    "\n",
    "num = favorite_numbers['josh']\n",
    "print(\"Josh's favorite number is \" + str(num) + \".\")\n",
    "\n",
    "num = favorite_numbers['alex']\n",
    "print(\"Alex's favorite number is \" + str(num) + \".\")\n",
    "\n",
    "num = favorite_numbers['evan']\n",
    "print(\"Evan's favorite number is \" + str(num) + \".\")\n",
    "\n",
    "num = favorite_numbers['will']\n",
    "print(\"Will's favorite number is \" + str(num) + \".\")"
   ]
  },
  {
   "cell_type": "code",
   "execution_count": 11,
   "id": "8f4e78da",
   "metadata": {},
   "outputs": [
    {
     "name": "stdout",
     "output_type": "stream",
     "text": [
      "\n",
      "String: A series of characters.\n",
      "\n",
      "Comment: A note in a program that the Python interpreter ignores.\n",
      "\n",
      "List: A collection of items in a particular order.\n",
      "\n",
      "Loop: Work through a collection of items, one at a time.\n",
      "\n",
      "Dictionary: A collection of key-value pairs.\n"
     ]
    }
   ],
   "source": [
    "#6-3 Glossary\n",
    "glossary = {\n",
    "    'string': 'a series of characters.',\n",
    "    'comment': 'a note in a program that the python interpreter ignores.',\n",
    "    'list': 'a collection of items in a particular order.',\n",
    "    'loop': 'work through a collection of items, one at a time.',\n",
    "    'dictionary': \"a collection of key-value pairs.\",\n",
    "    }\n",
    "\n",
    "word = 'string'\n",
    "print(\"\\n\" + word.title() + \": \" + glossary[word])\n",
    "\n",
    "word = 'comment'\n",
    "print(\"\\n\" + word.title() + \": \" + glossary[word])\n",
    "\n",
    "word = 'list'\n",
    "print(\"\\n\" + word.title() + \": \" + glossary[word])\n",
    "\n",
    "word = 'loop'\n",
    "print(\"\\n\" + word.title() + \": \" + glossary[word])\n",
    "\n",
    "word = 'dictionary'\n",
    "print(\"\\n\" + word.title() + \": \" + glossary[word])"
   ]
  },
  {
   "cell_type": "code",
   "execution_count": 13,
   "id": "2d8b2a85",
   "metadata": {},
   "outputs": [
    {
     "name": "stdout",
     "output_type": "stream",
     "text": [
      "\n",
      "String: a series of characters.\n",
      "\n",
      "Comment: a note in a program that the python interpreter ignores.\n",
      "\n",
      "List: a collection of items in a particular order.\n",
      "\n",
      "Loop: work through a collection of items, one at a time.\n",
      "\n",
      "Dictionary: a collection of key-value pairs.\n",
      "\n",
      "Key: the first item in a key-value pair in a dictionary.\n",
      "\n",
      "Value: an item associated with a key in a dictionary.\n",
      "\n",
      "Conditional Test: a comparison between two values.\n",
      "\n",
      "Float: a numerical value with a decimal component.\n",
      "\n",
      "Boolean Expression: an expression that evaluates to t or f.\n"
     ]
    }
   ],
   "source": [
    "#6-4 Glossary 2\n",
    "glossary = {\n",
    "    'string': 'a series of characters.',\n",
    "    'comment': 'a note in a program that the python interpreter ignores.',\n",
    "    'list': 'a collection of items in a particular order.',\n",
    "    'loop': 'work through a collection of items, one at a time.',\n",
    "    'dictionary': \"a collection of key-value pairs.\",\n",
    "    'key': 'the first item in a key-value pair in a dictionary.',\n",
    "    'value': 'an item associated with a key in a dictionary.',\n",
    "    'conditional test': 'a comparison between two values.',\n",
    "    'float': 'a numerical value with a decimal component.',\n",
    "    'boolean expression': 'an expression that evaluates to t or f.',\n",
    "    }\n",
    "\n",
    "for word, definition in glossary.items():\n",
    "    print(\"\\n\" + word.title() + \": \" + definition)"
   ]
  },
  {
   "cell_type": "code",
   "execution_count": 14,
   "id": "e44745d7",
   "metadata": {},
   "outputs": [
    {
     "name": "stdout",
     "output_type": "stream",
     "text": [
      "The Nile flows through Egypt.\n",
      "The Mississippi flows through United States.\n",
      "The Amazon flows through Brasil.\n",
      "The Yangtze flows through China.\n",
      "\n",
      "The following rivers are included in this data set:\n",
      "- Nile\n",
      "- Mississippi\n",
      "- Amazon\n",
      "- Yangtze\n",
      "\n",
      "The following countries are included in this data set:\n",
      "- Egypt\n",
      "- United States\n",
      "- Brasil\n",
      "- China\n"
     ]
    }
   ],
   "source": [
    "#6-5 Rivers\n",
    "rivers = {\n",
    "    'nile': 'egypt',\n",
    "    'mississippi': 'united states',\n",
    "    'amazon': 'brasil',\n",
    "    'yangtze': 'china',\n",
    "    }\n",
    "\n",
    "for river, country in rivers.items():\n",
    "    print(\"The \" + river.title() + \" flows through \" + country.title() + \".\")\n",
    "\n",
    "print(\"\\nThe following rivers are included in this data set:\")\n",
    "for river in rivers.keys():\n",
    "    print(\"- \" + river.title())\n",
    "\n",
    "print(\"\\nThe following countries are included in this data set:\")\n",
    "for country in rivers.values():\n",
    "    print(\"- \" + country.title())"
   ]
  },
  {
   "cell_type": "code",
   "execution_count": 16,
   "id": "d96652f0",
   "metadata": {},
   "outputs": [
    {
     "name": "stdout",
     "output_type": "stream",
     "text": [
      "Nana Adjekum, of Boston, is 20 years old.\n",
      "Alex Chung, of Boston, is 20 years old.\n",
      "Evan Hayban, of Boston, is 20 years old.\n"
     ]
    }
   ],
   "source": [
    "#6-7 People\n",
    "people = []\n",
    "person = {'firstName': 'Nana', \n",
    "          'lastName': 'Adjekum', \n",
    "          'age': '20',\n",
    "         'city': 'boston'\n",
    "         }\n",
    "people.append(person)\n",
    "person = {'firstName': 'Alex', \n",
    "          'lastName': 'Chung', \n",
    "          'age': '20',\n",
    "         'city': 'boston'}\n",
    "people.append(person)\n",
    "person = {'firstName': 'Evan', \n",
    "          'lastName': 'Hayban', \n",
    "          'age': '20',\n",
    "         'city': 'boston'}\n",
    "people.append(person)\n",
    "\n",
    "for person in people:\n",
    "    name = person['firstName'].title() + \" \" + person['lastName'].title()\n",
    "    age = str(person['age'])\n",
    "    city = person['city'].title()\n",
    "    \n",
    "    print(name + \", of \" + city + \", is \" + age + \" years old.\")"
   ]
  },
  {
   "cell_type": "code",
   "execution_count": 18,
   "id": "56b158c2",
   "metadata": {},
   "outputs": [
    {
     "name": "stdout",
     "output_type": "stream",
     "text": [
      "Kevin has pet dog.\n",
      "Bob has pet cat.\n",
      "Sally has pet lizard.\n"
     ]
    }
   ],
   "source": [
    "#6-8 Pets\n",
    "pets = []\n",
    "pet = {\n",
    "    'type': 'dog',\n",
    "    'owner': 'kevin'\n",
    "}\n",
    "pets.append(pet)\n",
    "pet = {\n",
    "    'type': 'cat',\n",
    "    'owner': 'bob'\n",
    "}\n",
    "pets.append(pet)\n",
    "pet = {\n",
    "    'type': 'lizard',\n",
    "    'owner': 'sally'\n",
    "}\n",
    "pets.append(pet)\n",
    "for pet in pets:\n",
    "    ptype = pet['type']\n",
    "    owner = pet['owner'].title()\n",
    "    print(owner + \" has pet \" + ptype + \".\")"
   ]
  },
  {
   "cell_type": "code",
   "execution_count": 20,
   "id": "5aa6bcfa",
   "metadata": {},
   "outputs": [
    {
     "name": "stdout",
     "output_type": "stream",
     "text": [
      "\n",
      "Nana likes the following places:\n",
      "- New York\n",
      "- Berlin\n",
      "- Amsterdam\n",
      "\n",
      "Bob likes the following places:\n",
      "- Jamaica\n",
      "- Barbados\n",
      "- Cape Town\n",
      "\n",
      "Sally likes the following places:\n",
      "- Paris\n",
      "- Copenhagen\n",
      "- Bern\n"
     ]
    }
   ],
   "source": [
    "#6-9 Favorite Places\n",
    "favoritePlaces = {\n",
    "    'nana' : ['new york', 'berlin', 'amsterdam'],\n",
    "    'bob' : ['jamaica', 'barbados', 'cape town'],\n",
    "    'sally' : ['paris', 'copenhagen', 'bern']\n",
    "}\n",
    "\n",
    "for name, places in favoritePlaces.items():\n",
    "    print(\"\\n\" + name.title() + \" likes the following places:\")\n",
    "    for place in places:\n",
    "        print(\"- \" + place.title())"
   ]
  },
  {
   "cell_type": "code",
   "execution_count": 22,
   "id": "ede45c11",
   "metadata": {},
   "outputs": [
    {
     "name": "stdout",
     "output_type": "stream",
     "text": [
      "\n",
      "Paris is in France.\n",
      "  It has a population of about 2.161 million.\n",
      "  A popular pastry from here is a crossiant.\n",
      "\n",
      "Copenhagen is in Denmark.\n",
      "  It has a population of about 600 thousand.\n",
      "  A popular pastry from here is a danish.\n",
      "\n",
      "London is in England.\n",
      "  It has a population of about 8.982 million.\n",
      "  A popular pastry from here is a crumpet.\n"
     ]
    }
   ],
   "source": [
    "#6-11 Cities\n",
    "cities = {\n",
    "    'paris': {\n",
    "        'country': 'france',\n",
    "        'population': '2.161 million',\n",
    "        'popular pastry': 'crossiant',\n",
    "        },\n",
    "    'copenhagen': {\n",
    "        'country': 'denmark',\n",
    "        'population': '600 thousand',\n",
    "        'popular pastry': 'danish',\n",
    "        },\n",
    "    'london': {\n",
    "        'country': 'england',\n",
    "        'population': '8.982 million',\n",
    "        'popular pastry': 'crumpet',\n",
    "        }\n",
    "    }\n",
    "\n",
    "for city, city_info in cities.items():\n",
    "    country = city_info['country'].title()\n",
    "    population = city_info['population']\n",
    "    pastry = city_info['popular pastry']\n",
    "\n",
    "    print(\"\\n\" + city.title() + \" is in \" + country + \".\")\n",
    "    print(\"  It has a population of about \" + str(population) + \".\")\n",
    "    print(\"  A popular pastry from here is a \" + pastry + \".\")\n"
   ]
  },
  {
   "cell_type": "code",
   "execution_count": null,
   "id": "28f0b5ab",
   "metadata": {},
   "outputs": [],
   "source": []
  }
 ],
 "metadata": {
  "kernelspec": {
   "display_name": "Python 3 (ipykernel)",
   "language": "python",
   "name": "python3"
  },
  "language_info": {
   "codemirror_mode": {
    "name": "ipython",
    "version": 3
   },
   "file_extension": ".py",
   "mimetype": "text/x-python",
   "name": "python",
   "nbconvert_exporter": "python",
   "pygments_lexer": "ipython3",
   "version": "3.11.4"
  }
 },
 "nbformat": 4,
 "nbformat_minor": 5
}
